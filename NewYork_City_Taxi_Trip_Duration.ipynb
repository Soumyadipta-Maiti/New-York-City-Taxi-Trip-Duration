{
 "cells": [
  {
   "cell_type": "markdown",
   "id": "8323e6cc",
   "metadata": {},
   "source": [
    "#### Import of Necessary Packages"
   ]
  },
  {
   "cell_type": "code",
   "execution_count": 77,
   "id": "56785f63",
   "metadata": {},
   "outputs": [],
   "source": [
    "import numpy as np\n",
    "import pandas as pd\n",
    "import os\n",
    "\n",
    "\n",
    "# import pdb\n",
    "# x = 3\n",
    "# y = [x + 4]\n",
    "# z = [5,6,7,8]\n",
    "# # pdb.set_trace()\n",
    "# s = y + z\n",
    "# s\n"
   ]
  },
  {
   "cell_type": "markdown",
   "id": "d0e56ae2",
   "metadata": {},
   "source": [
    "#### Reading of Dataset"
   ]
  },
  {
   "cell_type": "code",
   "execution_count": 78,
   "id": "8a64c06e",
   "metadata": {},
   "outputs": [
    {
     "data": {
      "text/html": [
       "<div>\n",
       "<style scoped>\n",
       "    .dataframe tbody tr th:only-of-type {\n",
       "        vertical-align: middle;\n",
       "    }\n",
       "\n",
       "    .dataframe tbody tr th {\n",
       "        vertical-align: top;\n",
       "    }\n",
       "\n",
       "    .dataframe thead th {\n",
       "        text-align: right;\n",
       "    }\n",
       "</style>\n",
       "<table border=\"1\" class=\"dataframe\">\n",
       "  <thead>\n",
       "    <tr style=\"text-align: right;\">\n",
       "      <th></th>\n",
       "      <th>id</th>\n",
       "      <th>vendor_id</th>\n",
       "      <th>pickup_datetime</th>\n",
       "      <th>dropoff_datetime</th>\n",
       "      <th>passenger_count</th>\n",
       "      <th>pickup_longitude</th>\n",
       "      <th>pickup_latitude</th>\n",
       "      <th>dropoff_longitude</th>\n",
       "      <th>dropoff_latitude</th>\n",
       "      <th>store_and_fwd_flag</th>\n",
       "      <th>trip_duration</th>\n",
       "    </tr>\n",
       "  </thead>\n",
       "  <tbody>\n",
       "    <tr>\n",
       "      <th>0</th>\n",
       "      <td>id2875421</td>\n",
       "      <td>2</td>\n",
       "      <td>2016-03-14 17:24:55</td>\n",
       "      <td>2016-03-14 17:32:30</td>\n",
       "      <td>1</td>\n",
       "      <td>-73.982155</td>\n",
       "      <td>40.767937</td>\n",
       "      <td>-73.964630</td>\n",
       "      <td>40.765602</td>\n",
       "      <td>N</td>\n",
       "      <td>455</td>\n",
       "    </tr>\n",
       "    <tr>\n",
       "      <th>1</th>\n",
       "      <td>id2377394</td>\n",
       "      <td>1</td>\n",
       "      <td>2016-06-12 00:43:35</td>\n",
       "      <td>2016-06-12 00:54:38</td>\n",
       "      <td>1</td>\n",
       "      <td>-73.980415</td>\n",
       "      <td>40.738564</td>\n",
       "      <td>-73.999481</td>\n",
       "      <td>40.731152</td>\n",
       "      <td>N</td>\n",
       "      <td>663</td>\n",
       "    </tr>\n",
       "    <tr>\n",
       "      <th>2</th>\n",
       "      <td>id3858529</td>\n",
       "      <td>2</td>\n",
       "      <td>2016-01-19 11:35:24</td>\n",
       "      <td>2016-01-19 12:10:48</td>\n",
       "      <td>1</td>\n",
       "      <td>-73.979027</td>\n",
       "      <td>40.763939</td>\n",
       "      <td>-74.005333</td>\n",
       "      <td>40.710087</td>\n",
       "      <td>N</td>\n",
       "      <td>2124</td>\n",
       "    </tr>\n",
       "    <tr>\n",
       "      <th>3</th>\n",
       "      <td>id3504673</td>\n",
       "      <td>2</td>\n",
       "      <td>2016-04-06 19:32:31</td>\n",
       "      <td>2016-04-06 19:39:40</td>\n",
       "      <td>1</td>\n",
       "      <td>-74.010040</td>\n",
       "      <td>40.719971</td>\n",
       "      <td>-74.012268</td>\n",
       "      <td>40.706718</td>\n",
       "      <td>N</td>\n",
       "      <td>429</td>\n",
       "    </tr>\n",
       "    <tr>\n",
       "      <th>4</th>\n",
       "      <td>id2181028</td>\n",
       "      <td>2</td>\n",
       "      <td>2016-03-26 13:30:55</td>\n",
       "      <td>2016-03-26 13:38:10</td>\n",
       "      <td>1</td>\n",
       "      <td>-73.973053</td>\n",
       "      <td>40.793209</td>\n",
       "      <td>-73.972923</td>\n",
       "      <td>40.782520</td>\n",
       "      <td>N</td>\n",
       "      <td>435</td>\n",
       "    </tr>\n",
       "    <tr>\n",
       "      <th>5</th>\n",
       "      <td>id0801584</td>\n",
       "      <td>2</td>\n",
       "      <td>2016-01-30 22:01:40</td>\n",
       "      <td>2016-01-30 22:09:03</td>\n",
       "      <td>6</td>\n",
       "      <td>-73.982857</td>\n",
       "      <td>40.742195</td>\n",
       "      <td>-73.992081</td>\n",
       "      <td>40.749184</td>\n",
       "      <td>N</td>\n",
       "      <td>443</td>\n",
       "    </tr>\n",
       "    <tr>\n",
       "      <th>6</th>\n",
       "      <td>id1813257</td>\n",
       "      <td>1</td>\n",
       "      <td>2016-06-17 22:34:59</td>\n",
       "      <td>2016-06-17 22:40:40</td>\n",
       "      <td>4</td>\n",
       "      <td>-73.969017</td>\n",
       "      <td>40.757839</td>\n",
       "      <td>-73.957405</td>\n",
       "      <td>40.765896</td>\n",
       "      <td>N</td>\n",
       "      <td>341</td>\n",
       "    </tr>\n",
       "    <tr>\n",
       "      <th>7</th>\n",
       "      <td>id1324603</td>\n",
       "      <td>2</td>\n",
       "      <td>2016-05-21 07:54:58</td>\n",
       "      <td>2016-05-21 08:20:49</td>\n",
       "      <td>1</td>\n",
       "      <td>-73.969276</td>\n",
       "      <td>40.797779</td>\n",
       "      <td>-73.922470</td>\n",
       "      <td>40.760559</td>\n",
       "      <td>N</td>\n",
       "      <td>1551</td>\n",
       "    </tr>\n",
       "    <tr>\n",
       "      <th>8</th>\n",
       "      <td>id1301050</td>\n",
       "      <td>1</td>\n",
       "      <td>2016-05-27 23:12:23</td>\n",
       "      <td>2016-05-27 23:16:38</td>\n",
       "      <td>1</td>\n",
       "      <td>-73.999481</td>\n",
       "      <td>40.738400</td>\n",
       "      <td>-73.985786</td>\n",
       "      <td>40.732815</td>\n",
       "      <td>N</td>\n",
       "      <td>255</td>\n",
       "    </tr>\n",
       "    <tr>\n",
       "      <th>9</th>\n",
       "      <td>id0012891</td>\n",
       "      <td>2</td>\n",
       "      <td>2016-03-10 21:45:01</td>\n",
       "      <td>2016-03-10 22:05:26</td>\n",
       "      <td>1</td>\n",
       "      <td>-73.981049</td>\n",
       "      <td>40.744339</td>\n",
       "      <td>-73.973000</td>\n",
       "      <td>40.789989</td>\n",
       "      <td>N</td>\n",
       "      <td>1225</td>\n",
       "    </tr>\n",
       "  </tbody>\n",
       "</table>\n",
       "</div>"
      ],
      "text/plain": [
       "          id  vendor_id      pickup_datetime     dropoff_datetime  \\\n",
       "0  id2875421          2  2016-03-14 17:24:55  2016-03-14 17:32:30   \n",
       "1  id2377394          1  2016-06-12 00:43:35  2016-06-12 00:54:38   \n",
       "2  id3858529          2  2016-01-19 11:35:24  2016-01-19 12:10:48   \n",
       "3  id3504673          2  2016-04-06 19:32:31  2016-04-06 19:39:40   \n",
       "4  id2181028          2  2016-03-26 13:30:55  2016-03-26 13:38:10   \n",
       "5  id0801584          2  2016-01-30 22:01:40  2016-01-30 22:09:03   \n",
       "6  id1813257          1  2016-06-17 22:34:59  2016-06-17 22:40:40   \n",
       "7  id1324603          2  2016-05-21 07:54:58  2016-05-21 08:20:49   \n",
       "8  id1301050          1  2016-05-27 23:12:23  2016-05-27 23:16:38   \n",
       "9  id0012891          2  2016-03-10 21:45:01  2016-03-10 22:05:26   \n",
       "\n",
       "   passenger_count  pickup_longitude  pickup_latitude  dropoff_longitude  \\\n",
       "0                1        -73.982155        40.767937         -73.964630   \n",
       "1                1        -73.980415        40.738564         -73.999481   \n",
       "2                1        -73.979027        40.763939         -74.005333   \n",
       "3                1        -74.010040        40.719971         -74.012268   \n",
       "4                1        -73.973053        40.793209         -73.972923   \n",
       "5                6        -73.982857        40.742195         -73.992081   \n",
       "6                4        -73.969017        40.757839         -73.957405   \n",
       "7                1        -73.969276        40.797779         -73.922470   \n",
       "8                1        -73.999481        40.738400         -73.985786   \n",
       "9                1        -73.981049        40.744339         -73.973000   \n",
       "\n",
       "   dropoff_latitude store_and_fwd_flag  trip_duration  \n",
       "0         40.765602                  N            455  \n",
       "1         40.731152                  N            663  \n",
       "2         40.710087                  N           2124  \n",
       "3         40.706718                  N            429  \n",
       "4         40.782520                  N            435  \n",
       "5         40.749184                  N            443  \n",
       "6         40.765896                  N            341  \n",
       "7         40.760559                  N           1551  \n",
       "8         40.732815                  N            255  \n",
       "9         40.789989                  N           1225  "
      ]
     },
     "execution_count": 78,
     "metadata": {},
     "output_type": "execute_result"
    }
   ],
   "source": [
    "df_original = pd.read_csv('data/train.csv')\n",
    "# df_original = pd.read_csv('C:/Users/SoumyadiptaMaiti/Data Science/Kaggle/Kaggle Compititions/2022/New York City Taxi Trip Duration/nyc-taxi-trip-duration/data/train.csv')\n",
    "df = df_original.copy(deep = 'true')\n",
    "df.head(10)"
   ]
  },
  {
   "cell_type": "code",
   "execution_count": 79,
   "id": "56816403",
   "metadata": {},
   "outputs": [
    {
     "data": {
      "text/html": [
       "<div>\n",
       "<style scoped>\n",
       "    .dataframe tbody tr th:only-of-type {\n",
       "        vertical-align: middle;\n",
       "    }\n",
       "\n",
       "    .dataframe tbody tr th {\n",
       "        vertical-align: top;\n",
       "    }\n",
       "\n",
       "    .dataframe thead th {\n",
       "        text-align: right;\n",
       "    }\n",
       "</style>\n",
       "<table border=\"1\" class=\"dataframe\">\n",
       "  <thead>\n",
       "    <tr style=\"text-align: right;\">\n",
       "      <th></th>\n",
       "      <th>id</th>\n",
       "      <th>vendor_id</th>\n",
       "      <th>pickup_datetime</th>\n",
       "      <th>passenger_count</th>\n",
       "      <th>pickup_longitude</th>\n",
       "      <th>pickup_latitude</th>\n",
       "      <th>dropoff_longitude</th>\n",
       "      <th>dropoff_latitude</th>\n",
       "      <th>store_and_fwd_flag</th>\n",
       "    </tr>\n",
       "  </thead>\n",
       "  <tbody>\n",
       "    <tr>\n",
       "      <th>0</th>\n",
       "      <td>id3004672</td>\n",
       "      <td>1</td>\n",
       "      <td>2016-06-30 23:59:58</td>\n",
       "      <td>1</td>\n",
       "      <td>-73.988129</td>\n",
       "      <td>40.732029</td>\n",
       "      <td>-73.990173</td>\n",
       "      <td>40.756680</td>\n",
       "      <td>N</td>\n",
       "    </tr>\n",
       "    <tr>\n",
       "      <th>1</th>\n",
       "      <td>id3505355</td>\n",
       "      <td>1</td>\n",
       "      <td>2016-06-30 23:59:53</td>\n",
       "      <td>1</td>\n",
       "      <td>-73.964203</td>\n",
       "      <td>40.679993</td>\n",
       "      <td>-73.959808</td>\n",
       "      <td>40.655403</td>\n",
       "      <td>N</td>\n",
       "    </tr>\n",
       "    <tr>\n",
       "      <th>2</th>\n",
       "      <td>id1217141</td>\n",
       "      <td>1</td>\n",
       "      <td>2016-06-30 23:59:47</td>\n",
       "      <td>1</td>\n",
       "      <td>-73.997437</td>\n",
       "      <td>40.737583</td>\n",
       "      <td>-73.986160</td>\n",
       "      <td>40.729523</td>\n",
       "      <td>N</td>\n",
       "    </tr>\n",
       "    <tr>\n",
       "      <th>3</th>\n",
       "      <td>id2150126</td>\n",
       "      <td>2</td>\n",
       "      <td>2016-06-30 23:59:41</td>\n",
       "      <td>1</td>\n",
       "      <td>-73.956070</td>\n",
       "      <td>40.771900</td>\n",
       "      <td>-73.986427</td>\n",
       "      <td>40.730469</td>\n",
       "      <td>N</td>\n",
       "    </tr>\n",
       "    <tr>\n",
       "      <th>4</th>\n",
       "      <td>id1598245</td>\n",
       "      <td>1</td>\n",
       "      <td>2016-06-30 23:59:33</td>\n",
       "      <td>1</td>\n",
       "      <td>-73.970215</td>\n",
       "      <td>40.761475</td>\n",
       "      <td>-73.961510</td>\n",
       "      <td>40.755890</td>\n",
       "      <td>N</td>\n",
       "    </tr>\n",
       "  </tbody>\n",
       "</table>\n",
       "</div>"
      ],
      "text/plain": [
       "          id  vendor_id      pickup_datetime  passenger_count  \\\n",
       "0  id3004672          1  2016-06-30 23:59:58                1   \n",
       "1  id3505355          1  2016-06-30 23:59:53                1   \n",
       "2  id1217141          1  2016-06-30 23:59:47                1   \n",
       "3  id2150126          2  2016-06-30 23:59:41                1   \n",
       "4  id1598245          1  2016-06-30 23:59:33                1   \n",
       "\n",
       "   pickup_longitude  pickup_latitude  dropoff_longitude  dropoff_latitude  \\\n",
       "0        -73.988129        40.732029         -73.990173         40.756680   \n",
       "1        -73.964203        40.679993         -73.959808         40.655403   \n",
       "2        -73.997437        40.737583         -73.986160         40.729523   \n",
       "3        -73.956070        40.771900         -73.986427         40.730469   \n",
       "4        -73.970215        40.761475         -73.961510         40.755890   \n",
       "\n",
       "  store_and_fwd_flag  \n",
       "0                  N  \n",
       "1                  N  \n",
       "2                  N  \n",
       "3                  N  \n",
       "4                  N  "
      ]
     },
     "execution_count": 79,
     "metadata": {},
     "output_type": "execute_result"
    }
   ],
   "source": [
    "df_test = pd.read_csv('data/test.csv')\n",
    "df_submission = df_test.copy(deep='true')\n",
    "df_submission.head(5)"
   ]
  },
  {
   "cell_type": "code",
   "execution_count": 80,
   "id": "10167c0a",
   "metadata": {},
   "outputs": [
    {
     "name": "stdout",
     "output_type": "stream",
     "text": [
      "<class 'pandas.core.frame.DataFrame'>\n",
      "RangeIndex: 1458644 entries, 0 to 1458643\n",
      "Data columns (total 11 columns):\n",
      " #   Column              Non-Null Count    Dtype  \n",
      "---  ------              --------------    -----  \n",
      " 0   id                  1458644 non-null  object \n",
      " 1   vendor_id           1458644 non-null  int64  \n",
      " 2   pickup_datetime     1458644 non-null  object \n",
      " 3   dropoff_datetime    1458644 non-null  object \n",
      " 4   passenger_count     1458644 non-null  int64  \n",
      " 5   pickup_longitude    1458644 non-null  float64\n",
      " 6   pickup_latitude     1458644 non-null  float64\n",
      " 7   dropoff_longitude   1458644 non-null  float64\n",
      " 8   dropoff_latitude    1458644 non-null  float64\n",
      " 9   store_and_fwd_flag  1458644 non-null  object \n",
      " 10  trip_duration       1458644 non-null  int64  \n",
      "dtypes: float64(4), int64(3), object(4)\n",
      "memory usage: 122.4+ MB\n"
     ]
    }
   ],
   "source": [
    "df.info()"
   ]
  },
  {
   "cell_type": "markdown",
   "id": "96f63917",
   "metadata": {},
   "source": [
    "## Data Analysis"
   ]
  },
  {
   "cell_type": "markdown",
   "id": "c22c1e72",
   "metadata": {},
   "source": [
    "### Varibale Types"
   ]
  },
  {
   "cell_type": "code",
   "execution_count": 81,
   "id": "5966a2e6",
   "metadata": {},
   "outputs": [
    {
     "name": "stdout",
     "output_type": "stream",
     "text": [
      "['pickup_datetime', 'dropoff_datetime', 'store_and_fwd_flag'] \n",
      " ['vendor_id', 'passenger_count', 'pickup_longitude', 'pickup_latitude', 'dropoff_longitude', 'dropoff_latitude']\n"
     ]
    }
   ],
   "source": [
    "# Catergorical variables\n",
    "cat_var = [var for var in df.columns if df[var].dtype=='O']\n",
    "cat_var.remove('id')# need to skip id variable as it's unique for each row\n",
    "\n",
    "# Numerical variables\n",
    "num_var = [var for var in df.columns if df[var].dtype!='O']\n",
    "num_var.remove('trip_duration')# need to skip target variable trip_duration\n",
    "\n",
    "print(cat_var , '\\n' , num_var)\n",
    "# num_var\n"
   ]
  },
  {
   "cell_type": "code",
   "execution_count": 82,
   "id": "b93c7e17",
   "metadata": {},
   "outputs": [],
   "source": [
    "# Distrinct variables\n",
    "# len(pd.unique(df['pickup_longitude']))\n",
    "df['vendor_id'] = df['vendor_id'].astype('O')\n",
    "df_test['vendor_id'] = df_test['vendor_id'].astype('O')\n",
    "num_var.remove('vendor_id')\n",
    "cat_var.append('vendor_id')\n",
    "\n",
    "# dis_var = [var for var in num_var if len(pd.unique(df[var]))<20]\n",
    "# dis_var\n"
   ]
  },
  {
   "cell_type": "code",
   "execution_count": 83,
   "id": "cacf80b7",
   "metadata": {},
   "outputs": [
    {
     "data": {
      "text/plain": [
       "array([1, 6, 4, 2, 3, 5, 0, 7, 9, 8], dtype=int64)"
      ]
     },
     "execution_count": 83,
     "metadata": {},
     "output_type": "execute_result"
    }
   ],
   "source": [
    "df['passenger_count'].unique()"
   ]
  },
  {
   "cell_type": "markdown",
   "id": "db7c7a36",
   "metadata": {},
   "source": [
    "## Data Cleaning"
   ]
  },
  {
   "cell_type": "markdown",
   "id": "2707f19d",
   "metadata": {},
   "source": [
    "#### Missing Data"
   ]
  },
  {
   "cell_type": "code",
   "execution_count": 84,
   "id": "77eff987",
   "metadata": {},
   "outputs": [
    {
     "data": {
      "text/plain": [
       "id                    0\n",
       "vendor_id             0\n",
       "pickup_datetime       0\n",
       "dropoff_datetime      0\n",
       "passenger_count       0\n",
       "pickup_longitude      0\n",
       "pickup_latitude       0\n",
       "dropoff_longitude     0\n",
       "dropoff_latitude      0\n",
       "store_and_fwd_flag    0\n",
       "trip_duration         0\n",
       "dtype: int64"
      ]
     },
     "execution_count": 84,
     "metadata": {},
     "output_type": "execute_result"
    }
   ],
   "source": [
    "# Count of column wise NA/Missing values\n",
    "df.isnull().sum()"
   ]
  },
  {
   "cell_type": "markdown",
   "id": "66245e49",
   "metadata": {},
   "source": [
    "#### Duplicate Rows"
   ]
  },
  {
   "cell_type": "code",
   "execution_count": 85,
   "id": "63887727",
   "metadata": {},
   "outputs": [
    {
     "data": {
      "text/plain": [
       "0"
      ]
     },
     "execution_count": 85,
     "metadata": {},
     "output_type": "execute_result"
    }
   ],
   "source": [
    "# Count number of duplicated Rows\n",
    "df.duplicated().sum()"
   ]
  },
  {
   "cell_type": "markdown",
   "id": "8f8fab5d",
   "metadata": {},
   "source": [
    "There is no Missing Values or duplicated Rows"
   ]
  },
  {
   "cell_type": "markdown",
   "id": "6bb487fb",
   "metadata": {},
   "source": [
    "#### Dsitribution of Variables & Outliers "
   ]
  },
  {
   "cell_type": "code",
   "execution_count": 86,
   "id": "317268a1",
   "metadata": {},
   "outputs": [
    {
     "data": {
      "text/html": [
       "<div>\n",
       "<style scoped>\n",
       "    .dataframe tbody tr th:only-of-type {\n",
       "        vertical-align: middle;\n",
       "    }\n",
       "\n",
       "    .dataframe tbody tr th {\n",
       "        vertical-align: top;\n",
       "    }\n",
       "\n",
       "    .dataframe thead th {\n",
       "        text-align: right;\n",
       "    }\n",
       "</style>\n",
       "<table border=\"1\" class=\"dataframe\">\n",
       "  <thead>\n",
       "    <tr style=\"text-align: right;\">\n",
       "      <th></th>\n",
       "      <th>passenger_count</th>\n",
       "      <th>pickup_longitude</th>\n",
       "      <th>pickup_latitude</th>\n",
       "      <th>dropoff_longitude</th>\n",
       "      <th>dropoff_latitude</th>\n",
       "      <th>trip_duration</th>\n",
       "    </tr>\n",
       "  </thead>\n",
       "  <tbody>\n",
       "    <tr>\n",
       "      <th>count</th>\n",
       "      <td>1.458644e+06</td>\n",
       "      <td>1.458644e+06</td>\n",
       "      <td>1.458644e+06</td>\n",
       "      <td>1.458644e+06</td>\n",
       "      <td>1.458644e+06</td>\n",
       "      <td>1.458644e+06</td>\n",
       "    </tr>\n",
       "    <tr>\n",
       "      <th>mean</th>\n",
       "      <td>1.664530e+00</td>\n",
       "      <td>-7.397349e+01</td>\n",
       "      <td>4.075092e+01</td>\n",
       "      <td>-7.397342e+01</td>\n",
       "      <td>4.075180e+01</td>\n",
       "      <td>9.594923e+02</td>\n",
       "    </tr>\n",
       "    <tr>\n",
       "      <th>std</th>\n",
       "      <td>1.314242e+00</td>\n",
       "      <td>7.090186e-02</td>\n",
       "      <td>3.288119e-02</td>\n",
       "      <td>7.064327e-02</td>\n",
       "      <td>3.589056e-02</td>\n",
       "      <td>5.237432e+03</td>\n",
       "    </tr>\n",
       "    <tr>\n",
       "      <th>min</th>\n",
       "      <td>0.000000e+00</td>\n",
       "      <td>-1.219333e+02</td>\n",
       "      <td>3.435970e+01</td>\n",
       "      <td>-1.219333e+02</td>\n",
       "      <td>3.218114e+01</td>\n",
       "      <td>1.000000e+00</td>\n",
       "    </tr>\n",
       "    <tr>\n",
       "      <th>25%</th>\n",
       "      <td>1.000000e+00</td>\n",
       "      <td>-7.399187e+01</td>\n",
       "      <td>4.073735e+01</td>\n",
       "      <td>-7.399133e+01</td>\n",
       "      <td>4.073588e+01</td>\n",
       "      <td>3.970000e+02</td>\n",
       "    </tr>\n",
       "    <tr>\n",
       "      <th>50%</th>\n",
       "      <td>1.000000e+00</td>\n",
       "      <td>-7.398174e+01</td>\n",
       "      <td>4.075410e+01</td>\n",
       "      <td>-7.397975e+01</td>\n",
       "      <td>4.075452e+01</td>\n",
       "      <td>6.620000e+02</td>\n",
       "    </tr>\n",
       "    <tr>\n",
       "      <th>75%</th>\n",
       "      <td>2.000000e+00</td>\n",
       "      <td>-7.396733e+01</td>\n",
       "      <td>4.076836e+01</td>\n",
       "      <td>-7.396301e+01</td>\n",
       "      <td>4.076981e+01</td>\n",
       "      <td>1.075000e+03</td>\n",
       "    </tr>\n",
       "    <tr>\n",
       "      <th>max</th>\n",
       "      <td>9.000000e+00</td>\n",
       "      <td>-6.133553e+01</td>\n",
       "      <td>5.188108e+01</td>\n",
       "      <td>-6.133553e+01</td>\n",
       "      <td>4.392103e+01</td>\n",
       "      <td>3.526282e+06</td>\n",
       "    </tr>\n",
       "  </tbody>\n",
       "</table>\n",
       "</div>"
      ],
      "text/plain": [
       "       passenger_count  pickup_longitude  pickup_latitude  dropoff_longitude  \\\n",
       "count     1.458644e+06      1.458644e+06     1.458644e+06       1.458644e+06   \n",
       "mean      1.664530e+00     -7.397349e+01     4.075092e+01      -7.397342e+01   \n",
       "std       1.314242e+00      7.090186e-02     3.288119e-02       7.064327e-02   \n",
       "min       0.000000e+00     -1.219333e+02     3.435970e+01      -1.219333e+02   \n",
       "25%       1.000000e+00     -7.399187e+01     4.073735e+01      -7.399133e+01   \n",
       "50%       1.000000e+00     -7.398174e+01     4.075410e+01      -7.397975e+01   \n",
       "75%       2.000000e+00     -7.396733e+01     4.076836e+01      -7.396301e+01   \n",
       "max       9.000000e+00     -6.133553e+01     5.188108e+01      -6.133553e+01   \n",
       "\n",
       "       dropoff_latitude  trip_duration  \n",
       "count      1.458644e+06   1.458644e+06  \n",
       "mean       4.075180e+01   9.594923e+02  \n",
       "std        3.589056e-02   5.237432e+03  \n",
       "min        3.218114e+01   1.000000e+00  \n",
       "25%        4.073588e+01   3.970000e+02  \n",
       "50%        4.075452e+01   6.620000e+02  \n",
       "75%        4.076981e+01   1.075000e+03  \n",
       "max        4.392103e+01   3.526282e+06  "
      ]
     },
     "execution_count": 86,
     "metadata": {},
     "output_type": "execute_result"
    }
   ],
   "source": [
    "df.describe()"
   ]
  },
  {
   "cell_type": "markdown",
   "id": "fdd1ef9b",
   "metadata": {},
   "source": [
    "As trip_duration contains high SD, it might contain outliers."
   ]
  },
  {
   "cell_type": "code",
   "execution_count": 87,
   "id": "01262eeb",
   "metadata": {},
   "outputs": [
    {
     "data": {
      "image/png": "[encoded data removed]",
      "text/plain": [
       "<Figure size 1080x216 with 1 Axes>"
      ]
     },
     "metadata": {
      "needs_background": "light"
     },
     "output_type": "display_data"
    }
   ],
   "source": [
    "#Visualize univariate outliers via box-lpot\n",
    "\n",
    "import matplotlib.pyplot as plt\n",
    "%matplotlib inline\n",
    "import seaborn as sns\n",
    "\n",
    "\n",
    "plt.subplots(figsize=(15,3))\n",
    "plt.title(\"Visualization of Outliers\")\n",
    "plt.ticklabel_format(style='plain')\n",
    "df.boxplot();"
   ]
  },
  {
   "cell_type": "code",
   "execution_count": 88,
   "id": "d3a2dfdd",
   "metadata": {},
   "outputs": [
    {
     "data": {
      "text/plain": [
       "3526282"
      ]
     },
     "execution_count": 88,
     "metadata": {},
     "output_type": "execute_result"
    }
   ],
   "source": [
    "df['trip_duration'].max()"
   ]
  },
  {
   "cell_type": "code",
   "execution_count": 89,
   "id": "6b407159",
   "metadata": {},
   "outputs": [
    {
     "data": {
      "image/png": "[encoded data removed]",
      "text/plain": [
       "<Figure size 1296x432 with 1 Axes>"
      ]
     },
     "metadata": {
      "needs_background": "light"
     },
     "output_type": "display_data"
    }
   ],
   "source": [
    "# To Check Distribution of trip_duration\n",
    "\n",
    "plt.subplots(figsize=(18,6))\n",
    "plt.hist(df['trip_duration'].values)\n",
    "plt.xlabel('trip_duration')\n",
    "plt.ylabel('number of train records')\n",
    "plt.ticklabel_format(style='plain')\n",
    "plt.xlim(0, df['trip_duration'].max())\n",
    "plt.ylim(0, df['trip_duration'].value_counts().max())\n",
    "plt.show()"
   ]
  },
  {
   "cell_type": "markdown",
   "id": "8b918bcc",
   "metadata": {},
   "source": [
    "Function to define boundaries for skewed distribution"
   ]
  },
  {
   "cell_type": "code",
   "execution_count": 90,
   "id": "adbb9a10",
   "metadata": {},
   "outputs": [],
   "source": [
    "# Let's calculate the boundaries outside which sit the outliers for skewed distributions\n",
    "# distance passed as an argument, gives us the option to estimate 1.5 times or 3 times the IQR to calculate\n",
    "# the boundaries.\n",
    "\n",
    "def find_skewed_boundary(df, variable, distance):\n",
    "    IQR = df[variable].quantile(0.75) - df[variable].quantile(0.25)\n",
    "    lower_boundary = df[variable].quantile(0.25) - (IQR * distance)\n",
    "    upper_boundary = df[variable].quantile(0.75) + (IQR * distance)\n",
    "\n",
    "    return upper_boundary, lower_boundary\n"
   ]
  },
  {
   "cell_type": "code",
   "execution_count": 91,
   "id": "702c3d12",
   "metadata": {},
   "outputs": [],
   "source": [
    "trip_duration_upper_boundary, trip_duration_lower_boundary = find_skewed_boundary(df, 'trip_duration', 1.5)\n",
    "df = df[(df.trip_duration < trip_duration_upper_boundary) & (df.trip_duration > trip_duration_lower_boundary)]"
   ]
  },
  {
   "cell_type": "code",
   "execution_count": 92,
   "id": "315255b2",
   "metadata": {},
   "outputs": [
    {
     "data": {
      "text/plain": [
       "(-620.0, 2092.0)"
      ]
     },
     "execution_count": 92,
     "metadata": {},
     "output_type": "execute_result"
    }
   ],
   "source": [
    "trip_duration_lower_boundary, trip_duration_upper_boundary"
   ]
  },
  {
   "cell_type": "code",
   "execution_count": 93,
   "id": "1a23cd39",
   "metadata": {},
   "outputs": [
    {
     "name": "stdout",
     "output_type": "stream",
     "text": [
      "Distinct Values of passenger_count = [1 6 4 2 3 5 0 7 9 8]\n"
     ]
    }
   ],
   "source": [
    "print('Distinct Values of passenger_count = ' + str(df['passenger_count'].unique()))"
   ]
  },
  {
   "cell_type": "markdown",
   "id": "03f390c6",
   "metadata": {},
   "source": [
    "Trip with zero passenger is meaningless. So removing all rows having zero passenger."
   ]
  },
  {
   "cell_type": "code",
   "execution_count": 94,
   "id": "9079a163",
   "metadata": {},
   "outputs": [],
   "source": [
    "df = df[(df.passenger_count > 0)]"
   ]
  },
  {
   "cell_type": "code",
   "execution_count": 95,
   "id": "2dacfeb3",
   "metadata": {},
   "outputs": [],
   "source": [
    "# dis_var, num_var"
   ]
  },
  {
   "cell_type": "code",
   "execution_count": 96,
   "id": "22999fd7",
   "metadata": {},
   "outputs": [
    {
     "data": {
      "image/png": "[encoded data removed]",
      "text/plain": [
       "<Figure size 1296x432 with 1 Axes>"
      ]
     },
     "metadata": {
      "needs_background": "light"
     },
     "output_type": "display_data"
    }
   ],
   "source": [
    "#Plot pickup positions to visualize outliers\n",
    "pickup_longitude = list(df.pickup_longitude)\n",
    "pickup_latitude = list(df.pickup_latitude)\n",
    "plt.subplots(figsize=(18,6))\n",
    "plt.plot(pickup_longitude, pickup_latitude, '.', alpha = 1, markersize = 10)\n",
    "plt.xlabel('pickup_longitude')\n",
    "plt.ylabel('pickup_latitude')\n",
    "plt.show()"
   ]
  },
  {
   "cell_type": "code",
   "execution_count": 97,
   "id": "c506a36e",
   "metadata": {},
   "outputs": [],
   "source": [
    "#Remove pickup position outliers\n",
    "df = df[(df.pickup_longitude > -100)]\n",
    "df = df[(df.pickup_latitude < 50)]"
   ]
  },
  {
   "cell_type": "code",
   "execution_count": 98,
   "id": "0a401bd1",
   "metadata": {},
   "outputs": [
    {
     "data": {
      "image/png": "[encoded data removed]",
      "text/plain": [
       "<Figure size 1296x432 with 1 Axes>"
      ]
     },
     "metadata": {
      "needs_background": "light"
     },
     "output_type": "display_data"
    }
   ],
   "source": [
    "#Plot dropoff positions to visualize outliers\n",
    "dropoff_longitude = list(df.dropoff_longitude)\n",
    "dropoff_latitude = list(df.dropoff_latitude)\n",
    "plt.subplots(figsize=(18,6))\n",
    "plt.plot(dropoff_longitude, dropoff_latitude, '.', alpha = 1, markersize = 10)\n",
    "plt.xlabel('dropoff_longitude')\n",
    "plt.ylabel('dropoff_latitude')\n",
    "plt.show()"
   ]
  },
  {
   "cell_type": "code",
   "execution_count": 99,
   "id": "4b8b1dc3",
   "metadata": {},
   "outputs": [],
   "source": [
    "# #Remove dropoff position outliers\n",
    "# df = df[(df.dropoff_longitude > -100)]\n",
    "# df = df[(df.dropoff_latitude < 50)]"
   ]
  },
  {
   "cell_type": "markdown",
   "id": "e6843731",
   "metadata": {},
   "source": [
    "## Feature Engineering"
   ]
  },
  {
   "cell_type": "markdown",
   "id": "2e65a72f",
   "metadata": {},
   "source": [
    "### Variable Transformation"
   ]
  },
  {
   "cell_type": "markdown",
   "id": "a7e6ff4c",
   "metadata": {},
   "source": [
    "#### Target Variable"
   ]
  },
  {
   "cell_type": "code",
   "execution_count": 100,
   "id": "15b4f1c5",
   "metadata": {},
   "outputs": [
    {
     "data": {
      "image/png": "[encoded data removed]",
      "text/plain": [
       "<Figure size 1296x432 with 1 Axes>"
      ]
     },
     "metadata": {
      "needs_background": "light"
     },
     "output_type": "display_data"
    }
   ],
   "source": [
    "# To Check Distribution of trip_duration\n",
    "\n",
    "plt.subplots(figsize=(18,6))\n",
    "plt.hist(df['trip_duration'].values, bins=100)\n",
    "plt.xlabel('trip_duration')\n",
    "plt.ylabel('number of train records')\n",
    "# plt.ticklabel_format(style='plain')\n",
    "# plt.xlim(0, df['trip_duration'].max())\n",
    "# plt.ylim(0, df['trip_duration'].value_counts().max())\n",
    "plt.show()"
   ]
  },
  {
   "cell_type": "markdown",
   "id": "fa9524f1",
   "metadata": {},
   "source": [
    "The distribution is right-skewed so we can consider a log-transformation of trip_duration column."
   ]
  },
  {
   "cell_type": "code",
   "execution_count": 101,
   "id": "ce88de64",
   "metadata": {},
   "outputs": [
    {
     "data": {
      "image/png": "[encoded data removed]",
      "text/plain": [
       "<Figure size 1296x432 with 1 Axes>"
      ]
     },
     "metadata": {
      "needs_background": "light"
     },
     "output_type": "display_data"
    }
   ],
   "source": [
    "#Log-transformation\n",
    "plt.subplots(figsize=(18,6))\n",
    "df['trip_duration'] = np.log(df['trip_duration'].values)\n",
    "plt.hist(df['trip_duration'].values, bins=100)\n",
    "plt.xlabel('log(trip_duration)')\n",
    "plt.ylabel('number of train records')\n",
    "plt.show()"
   ]
  },
  {
   "cell_type": "markdown",
   "id": "db149466",
   "metadata": {},
   "source": [
    "### Plots to assess normality\n",
    "\n",
    "To visualise the distribution of the variables, we plot a histogram and a Q-Q plot. In the Q-Q pLots, if the variable is normally distributed, the values of the variable should fall in a 45 degree line when plotted against the theoretical quantiles.\n"
   ]
  },
  {
   "cell_type": "code",
   "execution_count": 102,
   "id": "0e0bcbec",
   "metadata": {},
   "outputs": [],
   "source": [
    "# plot the histograms to have a quick look at the variable distribution\n",
    "# histogram and Q-Q plots\n",
    "\n",
    "import scipy.stats as stats\n",
    "\n",
    "def diagnostic_plots(df, variable):\n",
    "    \n",
    "    # function to plot a histogram and a Q-Q plot\n",
    "    # side by side, for a certain variable\n",
    "    \n",
    "    plt.figure(figsize=(15,6))\n",
    "    plt.subplot(1, 2, 1)\n",
    "    df[variable].hist()\n",
    "\n",
    "    plt.subplot(1, 2, 2)\n",
    "    stats.probplot(df[variable], dist=\"norm\", plot=plt)\n",
    "    \n",
    "    plt.xlabel(variable)\n",
    "    plt.ylabel('No of Occurance')\n",
    "\n",
    "    plt.show()"
   ]
  },
  {
   "cell_type": "code",
   "execution_count": 103,
   "id": "5675dbe1",
   "metadata": {},
   "outputs": [
    {
     "data": {
      "image/png": "[encoded data removed]",
      "text/plain": [
       "<Figure size 1080x432 with 2 Axes>"
      ]
     },
     "metadata": {
      "needs_background": "light"
     },
     "output_type": "display_data"
    },
    {
     "data": {
      "image/png": "[encoded data removed]",
      "text/plain": [
       "<Figure size 1080x432 with 2 Axes>"
      ]
     },
     "metadata": {
      "needs_background": "light"
     },
     "output_type": "display_data"
    },
    {
     "data": {
      "image/png": "[encoded data removed]",
      "text/plain": [
       "<Figure size 1080x432 with 2 Axes>"
      ]
     },
     "metadata": {
      "needs_background": "light"
     },
     "output_type": "display_data"
    },
    {
     "data": {
      "image/png": "[encoded data removed]",
      "text/plain": [
       "<Figure size 1080x432 with 2 Axes>"
      ]
     },
     "metadata": {
      "needs_background": "light"
     },
     "output_type": "display_data"
    },
    {
     "data": {
      "image/png": "[encoded data removed]",
      "text/plain": [
       "<Figure size 1080x432 with 2 Axes>"
      ]
     },
     "metadata": {
      "needs_background": "light"
     },
     "output_type": "display_data"
    }
   ],
   "source": [
    "for var in num_var:\n",
    "    diagnostic_plots(df,var)"
   ]
  },
  {
   "cell_type": "code",
   "execution_count": 104,
   "id": "7ee726ae",
   "metadata": {},
   "outputs": [],
   "source": [
    "# ## Log Transformer\n",
    "\n",
    "# import feature_engine.transformation as vt\n",
    "# lt = vt.LogTransformer(variables = ['trip_duration'])\n",
    "# lt.fit(df)\n",
    "# df_tf = lt.transform(df)\n",
    "# diagnostic_plots(df_tf, 'trip_duration')"
   ]
  },
  {
   "cell_type": "markdown",
   "id": "8ffe9fec",
   "metadata": {},
   "source": [
    "### Temporal variables"
   ]
  },
  {
   "cell_type": "code",
   "execution_count": 105,
   "id": "1c896a34",
   "metadata": {},
   "outputs": [
    {
     "name": "stderr",
     "output_type": "stream",
     "text": [
      "C:\\Users\\SOUMYA~1\\AppData\\Local\\Temp/ipykernel_5044/3449109456.py:13: FutureWarning: Series.dt.weekofyear and Series.dt.week have been deprecated.  Please use Series.dt.isocalendar().week instead.\n",
      "  df['week'] = df.pickup_datetime.dt.week\n",
      "C:\\Users\\SOUMYA~1\\AppData\\Local\\Temp/ipykernel_5044/3449109456.py:26: FutureWarning: Series.dt.weekofyear and Series.dt.week have been deprecated.  Please use Series.dt.isocalendar().week instead.\n",
      "  df_test['week'] = df_test.pickup_datetime.dt.week\n"
     ]
    },
    {
     "name": "stdout",
     "output_type": "stream",
     "text": [
      "<class 'pandas.core.frame.DataFrame'>\n",
      "Int64Index: 1384261 entries, 0 to 1458643\n",
      "Data columns (total 15 columns):\n",
      " #   Column              Non-Null Count    Dtype  \n",
      "---  ------              --------------    -----  \n",
      " 0   id                  1384261 non-null  object \n",
      " 1   vendor_id           1384261 non-null  object \n",
      " 2   passenger_count     1384261 non-null  int64  \n",
      " 3   pickup_longitude    1384261 non-null  float64\n",
      " 4   pickup_latitude     1384261 non-null  float64\n",
      " 5   dropoff_longitude   1384261 non-null  float64\n",
      " 6   dropoff_latitude    1384261 non-null  float64\n",
      " 7   store_and_fwd_flag  1384261 non-null  object \n",
      " 8   trip_duration       1384261 non-null  float64\n",
      " 9   date                1384261 non-null  object \n",
      " 10  year                1384261 non-null  int64  \n",
      " 11  month               1384261 non-null  int64  \n",
      " 12  week                1384261 non-null  int64  \n",
      " 13  day_of_week         1384261 non-null  int64  \n",
      " 14  minute_oftheday     1384261 non-null  int64  \n",
      "dtypes: float64(5), int64(6), object(4)\n",
      "memory usage: 169.0+ MB\n"
     ]
    }
   ],
   "source": [
    "#Datetyping the dates\n",
    "df['pickup_datetime'] = pd.to_datetime(df.pickup_datetime)\n",
    "df_test['pickup_datetime'] = pd.to_datetime(df_test.pickup_datetime)\n",
    "\n",
    "df.drop(['dropoff_datetime'], axis=1, inplace=True) #as this feature is not present in test set\n",
    "cat_var.remove('dropoff_datetime')\n",
    "\n",
    "\n",
    "#Date features creations and deletions\n",
    "df['date'] = df.pickup_datetime.dt.date\n",
    "df['year'] = df.pickup_datetime.dt.year\n",
    "df['month'] = df.pickup_datetime.dt.month\n",
    "df['week'] = df.pickup_datetime.dt.week\n",
    "df['day_of_week'] = df.pickup_datetime.dt.day_of_week\n",
    "# df['weekday'] = df.pickup_datetime.dt.weekday\n",
    "df['hour'] = df.pickup_datetime.dt.hour\n",
    "df['minute'] = df.pickup_datetime.dt.minute\n",
    "df['minute_oftheday'] = df['hour'] * 60 + df['minute']\n",
    "df.drop(['minute'], axis=1, inplace=True)\n",
    "df.drop(['hour'], axis=1, inplace=True)\n",
    "df.drop(['pickup_datetime'], axis=1, inplace=True)\n",
    "\n",
    "df_test['date'] = df_test.pickup_datetime.dt.date\n",
    "df_test['year'] = df_test.pickup_datetime.dt.year\n",
    "df_test['month'] = df_test.pickup_datetime.dt.month\n",
    "df_test['week'] = df_test.pickup_datetime.dt.week\n",
    "df_test['day_of_week'] = df_test.pickup_datetime.dt.day_of_week\n",
    "# df_test['weekday'] = df_test.pickup_datetime.dt.weekday\n",
    "df_test['hour'] = df_test.pickup_datetime.dt.hour\n",
    "df_test['minute'] = df_test.pickup_datetime.dt.minute\n",
    "df_test['minute_oftheday'] = df_test['hour'] * 60 + df_test['minute']\n",
    "df_test.drop(['minute'], axis=1, inplace=True)\n",
    "df_test.drop(['hour'], axis=1, inplace=True)\n",
    "df_test.drop(['pickup_datetime'], axis=1, inplace=True)\n",
    "\n",
    "# num_var.append('date')\n",
    "num_var.append('year')\n",
    "num_var.append('month')\n",
    "num_var.append('week')\n",
    "num_var.append('day_of_week')\n",
    "num_var.append('minute_oftheday')\n",
    "cat_var.remove('pickup_datetime')\n",
    "\n",
    "\n",
    "df.info()\n",
    "\n"
   ]
  },
  {
   "cell_type": "code",
   "execution_count": 106,
   "id": "2513681c",
   "metadata": {},
   "outputs": [
    {
     "data": {
      "text/plain": [
       "array([2016], dtype=int64)"
      ]
     },
     "execution_count": 106,
     "metadata": {},
     "output_type": "execute_result"
    }
   ],
   "source": [
    "df['year'].unique()\n",
    "df_test['year'].unique()"
   ]
  },
  {
   "cell_type": "code",
   "execution_count": 107,
   "id": "c51e678a",
   "metadata": {},
   "outputs": [],
   "source": [
    "import holidays\n",
    "import datetime\n",
    "\n",
    "# year = df['date'].str.slice(0,4)\n",
    "# year_unq = year.unique()\n",
    "\n",
    "holidays_us = []\n",
    "\n",
    "for date in holidays.UnitedStates(years=[2016]).items():  ## ?? need to change for dynamic year selection\n",
    "        holidays_us.append(str(date[0]))\n",
    "    \n",
    "\n",
    "df['us_holiday'] = [\n",
    "    1 if val in holidays_us else 0 for val in df['date']]\n",
    "\n",
    "df['us_holiday'] = df['us_holiday'].astype('O')\n",
    "df.drop(['date'], axis=1, inplace=True)\n",
    "\n",
    "    \n",
    "# dis_var.append('us_holiday')\n",
    "\n",
    "df_test['us_holiday'] = [\n",
    "    1 if val in holidays_us else 0 for val in df_test['date']]\n",
    "\n",
    "df_test['us_holiday'] = df_test['us_holiday'].astype('O')\n",
    "df_test.drop(['date'], axis=1, inplace=True)\n",
    "\n",
    "cat_var.append('us_holiday')\n",
    "    "
   ]
  },
  {
   "cell_type": "markdown",
   "id": "5f58c8be",
   "metadata": {},
   "source": [
    "### Deriving Distance variable"
   ]
  },
  {
   "cell_type": "code",
   "execution_count": 108,
   "id": "cc39ad12",
   "metadata": {},
   "outputs": [],
   "source": [
    "import math\n",
    "def Distance(lat1, lng1, lat2, lng2):\n",
    "    \n",
    "    lat1, lng1, lat2, lng2 = map(np.radians, (lat1, lng1, lat2, lng2))\n",
    "    R = 6373.0 # AVG_EARTH_RADIUS in KM\n",
    "    dlng = lng2 - lng1\n",
    "    dlat = lat2 - lat1\n",
    "    a = (np.sin(dlat/2))**2 + np.cos(lat1) * np.cos(lat2) * (np.sin(dlng/2))**2\n",
    "    distance = 2 * R * np.arcsin(np.sqrt(a))\n",
    "    return distance"
   ]
  },
  {
   "cell_type": "code",
   "execution_count": 109,
   "id": "99c7523f",
   "metadata": {},
   "outputs": [],
   "source": [
    "df['distance']=Distance(df['pickup_latitude'].values,\n",
    "                        df['pickup_longitude'].values, \n",
    "                        df['dropoff_latitude'].values,\n",
    "                        df['dropoff_longitude'].values)"
   ]
  },
  {
   "cell_type": "code",
   "execution_count": 110,
   "id": "e8bc1c8e",
   "metadata": {},
   "outputs": [],
   "source": [
    "df_test['distance']=Distance(df_test['pickup_latitude'].values,\n",
    "                        df_test['pickup_longitude'].values, \n",
    "                        df_test['dropoff_latitude'].values,\n",
    "                        df_test['dropoff_longitude'].values)"
   ]
  },
  {
   "cell_type": "code",
   "execution_count": 111,
   "id": "4684c5e3",
   "metadata": {},
   "outputs": [
    {
     "data": {
      "image/png": "[encoded data removed]",
      "text/plain": [
       "<Figure size 432x288 with 1 Axes>"
      ]
     },
     "metadata": {
      "needs_background": "light"
     },
     "output_type": "display_data"
    }
   ],
   "source": [
    "#Plot distance feature to visualize outliers\n",
    "df.boxplot(column='distance', return_type='axes');"
   ]
  },
  {
   "cell_type": "code",
   "execution_count": 112,
   "id": "1acb2035",
   "metadata": {},
   "outputs": [],
   "source": [
    "#Remove distance outliers\n",
    "df = df[(df.distance < 200)]"
   ]
  },
  {
   "cell_type": "markdown",
   "id": "66d9e106",
   "metadata": {},
   "source": [
    "### Create speed feature"
   ]
  },
  {
   "cell_type": "code",
   "execution_count": 113,
   "id": "2e673a75",
   "metadata": {},
   "outputs": [
    {
     "data": {
      "image/png": "[encoded data removed]",
      "text/plain": [
       "<Figure size 432x288 with 1 Axes>"
      ]
     },
     "metadata": {
      "needs_background": "light"
     },
     "output_type": "display_data"
    }
   ],
   "source": [
    "df['speed'] = df.distance / df.trip_duration\n",
    "\n",
    "#Plot speed feature to visualize outliers\n",
    "df.boxplot(column='speed', return_type='axes');"
   ]
  },
  {
   "cell_type": "code",
   "execution_count": 114,
   "id": "6598bdd1",
   "metadata": {},
   "outputs": [],
   "source": [
    "#Remove speed outliers & then this feature\n",
    "df = df[(df.speed < 30)]\n",
    "df.drop(['speed'], axis=1, inplace=True)"
   ]
  },
  {
   "cell_type": "code",
   "execution_count": null,
   "id": "f1654b1e",
   "metadata": {},
   "outputs": [],
   "source": []
  },
  {
   "cell_type": "markdown",
   "id": "3f2af28b",
   "metadata": {},
   "source": [
    "#### Cor-relation among all variables"
   ]
  },
  {
   "cell_type": "code",
   "execution_count": 115,
   "id": "38cdd1b6",
   "metadata": {},
   "outputs": [
    {
     "data": {
      "text/plain": [
       "array([2016], dtype=int64)"
      ]
     },
     "execution_count": 115,
     "metadata": {},
     "output_type": "execute_result"
    }
   ],
   "source": [
    "pd.unique(df['year'])"
   ]
  },
  {
   "cell_type": "code",
   "execution_count": 116,
   "id": "724fbc86",
   "metadata": {},
   "outputs": [
    {
     "data": {
      "text/plain": [
       "Text(0.5, 1.0, 'Correlations between variables')"
      ]
     },
     "execution_count": 116,
     "metadata": {},
     "output_type": "execute_result"
    },
    {
     "data": {
      "image/png": "[encoded data removed]",
      "text/plain": [
       "<Figure size 1008x360 with 2 Axes>"
      ]
     },
     "metadata": {
      "needs_background": "light"
     },
     "output_type": "display_data"
    }
   ],
   "source": [
    "import seaborn as sns\n",
    "\n",
    "# features = num_var+dis_var+cat_var+['trip_duration']\n",
    "# # we calculate the correlations using pandas corr & round the values to 2 decimals\n",
    "# correlation_matrix = df[features].corr().round(2)\n",
    "\n",
    "# figure = plt.figure(figsize=(8, 8))\n",
    "# sns.heatmap(data=correlation_matrix, annot=True)\n",
    "fig, ax = plt.subplots(figsize=(14,5))\n",
    "sns.heatmap(data=df.corr(), annot=True, cmap = plt.cm.RdYlBu_r, linewidths=.1, ax=ax).set_title('Correlations between variables')"
   ]
  },
  {
   "cell_type": "code",
   "execution_count": 117,
   "id": "e192bd3a",
   "metadata": {},
   "outputs": [
    {
     "data": {
      "text/plain": [
       "Index(['id', 'vendor_id', 'passenger_count', 'pickup_longitude',\n",
       "       'pickup_latitude', 'dropoff_longitude', 'dropoff_latitude',\n",
       "       'store_and_fwd_flag', 'trip_duration', 'year', 'month', 'week',\n",
       "       'day_of_week', 'minute_oftheday', 'us_holiday', 'distance'],\n",
       "      dtype='object')"
      ]
     },
     "execution_count": 117,
     "metadata": {},
     "output_type": "execute_result"
    }
   ],
   "source": [
    "df.columns"
   ]
  },
  {
   "cell_type": "markdown",
   "id": "52fb8522",
   "metadata": {},
   "source": [
    "#### Split of Labelled data into Train & Test Set"
   ]
  },
  {
   "cell_type": "code",
   "execution_count": 118,
   "id": "a9732c70",
   "metadata": {},
   "outputs": [
    {
     "data": {
      "text/plain": [
       "((1107376, 14), (1107376,), (276845, 14), (276845,))"
      ]
     },
     "execution_count": 118,
     "metadata": {},
     "output_type": "execute_result"
    }
   ],
   "source": [
    "from sklearn.model_selection import train_test_split\n",
    "\n",
    "X = df\n",
    "y = X[\"trip_duration\"]\n",
    "X.drop([\"trip_duration\"], axis=1, inplace=True)\n",
    "X.drop(['id'], axis=1, inplace=True)\n",
    "\n",
    "X_train, X_test, y_train, y_test = train_test_split(X, y, test_size=0.2, random_state=42)\n",
    "\n",
    "X_train.shape, y_train.shape, X_test.shape, y_test.shape"
   ]
  },
  {
   "cell_type": "code",
   "execution_count": 119,
   "id": "eaa08bb9",
   "metadata": {},
   "outputs": [
    {
     "data": {
      "text/plain": [
       "['store_and_fwd_flag', 'vendor_id', 'us_holiday']"
      ]
     },
     "execution_count": 119,
     "metadata": {},
     "output_type": "execute_result"
    }
   ],
   "source": [
    "cat_var"
   ]
  },
  {
   "cell_type": "code",
   "execution_count": 120,
   "id": "76316036",
   "metadata": {},
   "outputs": [],
   "source": [
    "# help(StandardScaler())"
   ]
  },
  {
   "cell_type": "code",
   "execution_count": 121,
   "id": "690b9b7c",
   "metadata": {},
   "outputs": [],
   "source": [
    "# for the model\n",
    "# from sklearn.linear_model import Lasso\n",
    "from sklearn.linear_model import LinearRegression\n",
    "from sklearn.linear_model import Ridge\n",
    "from sklearn.ensemble import  RandomForestRegressor\n",
    "from sklearn.ensemble import  GradientBoostingRegressor\n",
    "import lightgbm as lgb\n",
    "from sklearn.pipeline import Pipeline\n",
    "from sklearn.metrics import mean_squared_error, r2_score\n",
    "\n",
    "# for feature engineering\n",
    "from sklearn.preprocessing import StandardScaler\n",
    "from feature_engine import imputation as mdi\n",
    "from feature_engine import discretisation as dsc\n",
    "from feature_engine import encoding as ce\n",
    "\n",
    "\n",
    "trip_pipeline = Pipeline([\n",
    "\n",
    "#     # missing data imputation\n",
    "#     ('missing_ind', mdi.AddMissingIndicator(\n",
    "#         variables=['country', 'store',  'product'])),\n",
    "    \n",
    "#     ('imputer_num', mdi.MeanMedianImputer(imputation_method='median',\n",
    "#                                           variables=['country', 'store',  'product'])),\n",
    "    \n",
    "#     ('imputer_cat', mdi.CategoricalImputer(variables=cat_var)),\n",
    "\n",
    "#     # categorical encoding\n",
    "#     ('rare_label_enc', ce.RareLabelEncoder(\n",
    "#         tol=0.05, n_categories=6, variables=cat_var+dis_var)),\n",
    "        \n",
    "    \n",
    "#     ('categorical_enc', ce.OrdinalEncoder(\n",
    "#         encoding_method='ordered', variables=cat_var+dis_var)),\n",
    "    \n",
    "    ('categorical_enc', ce.OneHotEncoder(variables=cat_var)),\n",
    "\n",
    "#     # discretisation + encoding\n",
    "#     ('discretisation', dsc.EqualFrequencyDiscretiser(\n",
    "#         q=5, return_object=True, variables=num_var)),\n",
    "    \n",
    "#     ('encoding', ce.OrdinalEncoder(\n",
    "#         encoding_method='ordered', variables=num_var)),\n",
    "\n",
    "    # feature Scaling \n",
    "    ('scaler', StandardScaler()),\n",
    "    \n",
    "# Model Selection    \n",
    "#     # Lasso Regression\n",
    "#     ('lasso', Lasso(random_state=0))\n",
    "    \n",
    "#     # Linear Regression\n",
    "#     ('Linear Regression', LinearRegression())\n",
    "    \n",
    "#         # Ridge Regression\n",
    "#     ('ridge', Ridge(random_state=0))\n",
    "    \n",
    "#    Random Forest\n",
    "    ('model', RandomForestRegressor(random_state=0))\n",
    "# #     GradientBoosting\n",
    "#     ('gradient_boosting', GradientBoostingRegressor(random_state=0))\n",
    "# #     LightGBM\n",
    "#     ('light_GBM', lgb(random_state=0))\n",
    "])"
   ]
  },
  {
   "cell_type": "code",
   "execution_count": 122,
   "id": "e6511cf6",
   "metadata": {},
   "outputs": [],
   "source": [
    "# RandomForestRegressor()"
   ]
  },
  {
   "cell_type": "code",
   "execution_count": 123,
   "id": "d8cbd0d4",
   "metadata": {},
   "outputs": [],
   "source": [
    "from sklearn.model_selection import GridSearchCV\n",
    "\n",
    "trip_parameters = [\n",
    "    {\n",
    "        'model': (RandomForestRegressor(),),\n",
    "        'model__n_estimators': (10, 30)\n",
    "    }, {\n",
    "        'model': (GradientBoostingRegressor(),),\n",
    "        'model__n_estimators': (10, 30)\n",
    "    },\n",
    "#     {\n",
    "#         'model': (lgb(),),\n",
    "#         'model__metric': ('rmse')\n",
    "#         'model__is_training_metric': (True)\n",
    "#     },\n",
    "]\n",
    "\n",
    "# now we set up the grid search with cross-validation\n",
    "grid_search = GridSearchCV(trip_pipeline, trip_parameters,\n",
    "                          cv=5, n_jobs=-1, scoring='roc_auc')"
   ]
  },
  {
   "cell_type": "code",
   "execution_count": 124,
   "id": "1e4dbe7c",
   "metadata": {},
   "outputs": [
    {
     "data": {
      "text/plain": [
       "['store_and_fwd_flag', 'vendor_id', 'us_holiday']"
      ]
     },
     "execution_count": 124,
     "metadata": {},
     "output_type": "execute_result"
    }
   ],
   "source": [
    "# X_train.columns\n",
    "# y_train.describe\n",
    "cat_var"
   ]
  },
  {
   "cell_type": "code",
   "execution_count": null,
   "id": "697372e1",
   "metadata": {},
   "outputs": [],
   "source": []
  },
  {
   "cell_type": "code",
   "execution_count": 125,
   "id": "e2382187",
   "metadata": {},
   "outputs": [
    {
     "name": "stderr",
     "output_type": "stream",
     "text": [
      "C:\\Users\\SoumyadiptaMaiti\\Anaconda3\\lib\\site-packages\\sklearn\\model_selection\\_search.py:922: UserWarning: One or more of the test scores are non-finite: [nan nan nan nan]\n",
      "  warnings.warn(\n"
     ]
    },
    {
     "data": {
      "text/plain": [
       "GridSearchCV(cv=5,\n",
       "             estimator=Pipeline(steps=[('categorical_enc',\n",
       "                                        OneHotEncoder(variables=['store_and_fwd_flag',\n",
       "                                                                 'vendor_id',\n",
       "                                                                 'us_holiday'])),\n",
       "                                       ('scaler', StandardScaler()),\n",
       "                                       ('model',\n",
       "                                        RandomForestRegressor(random_state=0))]),\n",
       "             n_jobs=-1,\n",
       "             param_grid=[{'model': (RandomForestRegressor(n_estimators=10),),\n",
       "                          'model__n_estimators': (10, 30)},\n",
       "                         {'model': (GradientBoostingRegressor(),),\n",
       "                          'model__n_estimators': (10, 30)}],\n",
       "             scoring='roc_auc')"
      ]
     },
     "execution_count": 125,
     "metadata": {},
     "output_type": "execute_result"
    }
   ],
   "source": [
    "# now we train over all the possible combinations of the parameters above\n",
    "grid_search.fit(X_train, y_train)"
   ]
  },
  {
   "cell_type": "code",
   "execution_count": 126,
   "id": "2ed48a68",
   "metadata": {},
   "outputs": [],
   "source": [
    "# # and we print the best score over the train set\n",
    "# print((\"best roc-auc from grid search: %.3f\"\n",
    "#        % grid_search.score(X_train, y_train)))"
   ]
  },
  {
   "cell_type": "code",
   "execution_count": 127,
   "id": "fa5bff6c",
   "metadata": {},
   "outputs": [
    {
     "data": {
      "text/plain": [
       "Pipeline(steps=[('categorical_enc',\n",
       "                 OneHotEncoder(variables=['store_and_fwd_flag', 'vendor_id',\n",
       "                                          'us_holiday'])),\n",
       "                ('scaler', StandardScaler()),\n",
       "                ('model', RandomForestRegressor(n_estimators=10))])"
      ]
     },
     "execution_count": 127,
     "metadata": {},
     "output_type": "execute_result"
    }
   ],
   "source": [
    "# we can print the best estimator parameters like this\n",
    "grid_search.best_estimator_"
   ]
  },
  {
   "cell_type": "code",
   "execution_count": 128,
   "id": "b890c722",
   "metadata": {},
   "outputs": [
    {
     "data": {
      "text/plain": [
       "{'model': RandomForestRegressor(n_estimators=10), 'model__n_estimators': 10}"
      ]
     },
     "execution_count": 128,
     "metadata": {},
     "output_type": "execute_result"
    }
   ],
   "source": [
    "# and find the best fit parameters like this\n",
    "grid_search.best_params_"
   ]
  },
  {
   "cell_type": "code",
   "execution_count": 129,
   "id": "6e783c91",
   "metadata": {},
   "outputs": [
    {
     "ename": "ValueError",
     "evalue": "continuous format is not supported",
     "output_type": "error",
     "traceback": [
      "\u001b[1;31m---------------------------------------------------------------------------\u001b[0m",
      "\u001b[1;31mValueError\u001b[0m                                Traceback (most recent call last)",
      "\u001b[1;32mC:\\Users\\SOUMYA~1\\AppData\\Local\\Temp/ipykernel_5044/2419997859.py\u001b[0m in \u001b[0;36m<module>\u001b[1;34m\u001b[0m\n\u001b[0;32m      1\u001b[0m \u001b[1;31m# and finally let's check the performance over the test set\u001b[0m\u001b[1;33m\u001b[0m\u001b[1;33m\u001b[0m\u001b[1;33m\u001b[0m\u001b[0m\n\u001b[0;32m      2\u001b[0m print((\"best linear regression from grid search: %.3f\"\n\u001b[1;32m----> 3\u001b[1;33m        % grid_search.score(X_test, y_test)))\n\u001b[0m",
      "\u001b[1;32m~\\Anaconda3\\lib\\site-packages\\sklearn\\model_selection\\_search.py\u001b[0m in \u001b[0;36mscore\u001b[1;34m(self, X, y)\u001b[0m\n\u001b[0;32m    484\u001b[0m \u001b[1;33m\u001b[0m\u001b[0m\n\u001b[0;32m    485\u001b[0m         \u001b[1;31m# callable\u001b[0m\u001b[1;33m\u001b[0m\u001b[1;33m\u001b[0m\u001b[1;33m\u001b[0m\u001b[0m\n\u001b[1;32m--> 486\u001b[1;33m         \u001b[0mscore\u001b[0m \u001b[1;33m=\u001b[0m \u001b[0mself\u001b[0m\u001b[1;33m.\u001b[0m\u001b[0mscorer_\u001b[0m\u001b[1;33m(\u001b[0m\u001b[0mself\u001b[0m\u001b[1;33m.\u001b[0m\u001b[0mbest_estimator_\u001b[0m\u001b[1;33m,\u001b[0m \u001b[0mX\u001b[0m\u001b[1;33m,\u001b[0m \u001b[0my\u001b[0m\u001b[1;33m)\u001b[0m\u001b[1;33m\u001b[0m\u001b[1;33m\u001b[0m\u001b[0m\n\u001b[0m\u001b[0;32m    487\u001b[0m         \u001b[1;32mif\u001b[0m \u001b[0mself\u001b[0m\u001b[1;33m.\u001b[0m\u001b[0mmultimetric_\u001b[0m\u001b[1;33m:\u001b[0m\u001b[1;33m\u001b[0m\u001b[1;33m\u001b[0m\u001b[0m\n\u001b[0;32m    488\u001b[0m             \u001b[0mscore\u001b[0m \u001b[1;33m=\u001b[0m \u001b[0mscore\u001b[0m\u001b[1;33m[\u001b[0m\u001b[0mself\u001b[0m\u001b[1;33m.\u001b[0m\u001b[0mrefit\u001b[0m\u001b[1;33m]\u001b[0m\u001b[1;33m\u001b[0m\u001b[1;33m\u001b[0m\u001b[0m\n",
      "\u001b[1;32m~\\Anaconda3\\lib\\site-packages\\sklearn\\metrics\\_scorer.py\u001b[0m in \u001b[0;36m__call__\u001b[1;34m(self, estimator, X, y_true, sample_weight)\u001b[0m\n\u001b[0;32m    197\u001b[0m             \u001b[0mScore\u001b[0m \u001b[0mfunction\u001b[0m \u001b[0mapplied\u001b[0m \u001b[0mto\u001b[0m \u001b[0mprediction\u001b[0m \u001b[0mof\u001b[0m \u001b[0mestimator\u001b[0m \u001b[0mon\u001b[0m \u001b[0mX\u001b[0m\u001b[1;33m.\u001b[0m\u001b[1;33m\u001b[0m\u001b[1;33m\u001b[0m\u001b[0m\n\u001b[0;32m    198\u001b[0m         \"\"\"\n\u001b[1;32m--> 199\u001b[1;33m         return self._score(partial(_cached_call, None), estimator, X, y_true,\n\u001b[0m\u001b[0;32m    200\u001b[0m                            sample_weight=sample_weight)\n\u001b[0;32m    201\u001b[0m \u001b[1;33m\u001b[0m\u001b[0m\n",
      "\u001b[1;32m~\\Anaconda3\\lib\\site-packages\\sklearn\\metrics\\_scorer.py\u001b[0m in \u001b[0;36m_score\u001b[1;34m(self, method_caller, clf, X, y, sample_weight)\u001b[0m\n\u001b[0;32m    326\u001b[0m         \u001b[0my_type\u001b[0m \u001b[1;33m=\u001b[0m \u001b[0mtype_of_target\u001b[0m\u001b[1;33m(\u001b[0m\u001b[0my\u001b[0m\u001b[1;33m)\u001b[0m\u001b[1;33m\u001b[0m\u001b[1;33m\u001b[0m\u001b[0m\n\u001b[0;32m    327\u001b[0m         \u001b[1;32mif\u001b[0m \u001b[0my_type\u001b[0m \u001b[1;32mnot\u001b[0m \u001b[1;32min\u001b[0m \u001b[1;33m(\u001b[0m\u001b[1;34m\"binary\"\u001b[0m\u001b[1;33m,\u001b[0m \u001b[1;34m\"multilabel-indicator\"\u001b[0m\u001b[1;33m)\u001b[0m\u001b[1;33m:\u001b[0m\u001b[1;33m\u001b[0m\u001b[1;33m\u001b[0m\u001b[0m\n\u001b[1;32m--> 328\u001b[1;33m             \u001b[1;32mraise\u001b[0m \u001b[0mValueError\u001b[0m\u001b[1;33m(\u001b[0m\u001b[1;34m\"{0} format is not supported\"\u001b[0m\u001b[1;33m.\u001b[0m\u001b[0mformat\u001b[0m\u001b[1;33m(\u001b[0m\u001b[0my_type\u001b[0m\u001b[1;33m)\u001b[0m\u001b[1;33m)\u001b[0m\u001b[1;33m\u001b[0m\u001b[1;33m\u001b[0m\u001b[0m\n\u001b[0m\u001b[0;32m    329\u001b[0m \u001b[1;33m\u001b[0m\u001b[0m\n\u001b[0;32m    330\u001b[0m         \u001b[1;32mif\u001b[0m \u001b[0mis_regressor\u001b[0m\u001b[1;33m(\u001b[0m\u001b[0mclf\u001b[0m\u001b[1;33m)\u001b[0m\u001b[1;33m:\u001b[0m\u001b[1;33m\u001b[0m\u001b[1;33m\u001b[0m\u001b[0m\n",
      "\u001b[1;31mValueError\u001b[0m: continuous format is not supported"
     ]
    }
   ],
   "source": [
    "# and finally let's check the performance over the test set\n",
    "print((\"best linear regression from grid search: %.3f\"\n",
    "       % grid_search.score(X_test, y_test)))"
   ]
  },
  {
   "cell_type": "markdown",
   "id": "ffe3902c",
   "metadata": {},
   "source": [
    "### Final prediction"
   ]
  },
  {
   "cell_type": "code",
   "execution_count": 130,
   "id": "5b3d25f1",
   "metadata": {},
   "outputs": [
    {
     "data": {
      "text/plain": [
       "Index(['vendor_id', 'passenger_count', 'pickup_longitude', 'pickup_latitude',\n",
       "       'dropoff_longitude', 'dropoff_latitude', 'store_and_fwd_flag', 'year',\n",
       "       'month', 'week', 'day_of_week', 'minute_oftheday', 'us_holiday',\n",
       "       'distance'],\n",
       "      dtype='object')"
      ]
     },
     "execution_count": 130,
     "metadata": {},
     "output_type": "execute_result"
    }
   ],
   "source": [
    "X_train.columns"
   ]
  },
  {
   "cell_type": "code",
   "execution_count": 131,
   "id": "9e8c2ce3",
   "metadata": {},
   "outputs": [
    {
     "data": {
      "text/plain": [
       "Index(['id', 'vendor_id', 'pickup_datetime', 'passenger_count',\n",
       "       'pickup_longitude', 'pickup_latitude', 'dropoff_longitude',\n",
       "       'dropoff_latitude', 'store_and_fwd_flag'],\n",
       "      dtype='object')"
      ]
     },
     "execution_count": 131,
     "metadata": {},
     "output_type": "execute_result"
    }
   ],
   "source": [
    "df_submission.columns"
   ]
  },
  {
   "cell_type": "code",
   "execution_count": 132,
   "id": "3778094f",
   "metadata": {},
   "outputs": [
    {
     "data": {
      "text/plain": [
       "Index(['id', 'vendor_id', 'passenger_count', 'pickup_longitude',\n",
       "       'pickup_latitude', 'dropoff_longitude', 'dropoff_latitude',\n",
       "       'store_and_fwd_flag', 'year', 'month', 'week', 'day_of_week',\n",
       "       'minute_oftheday', 'us_holiday', 'distance'],\n",
       "      dtype='object')"
      ]
     },
     "execution_count": 132,
     "metadata": {},
     "output_type": "execute_result"
    }
   ],
   "source": [
    "df_test.columns"
   ]
  },
  {
   "cell_type": "code",
   "execution_count": 134,
   "id": "168e265e",
   "metadata": {},
   "outputs": [
    {
     "ename": "KeyError",
     "evalue": "\"['id'] not found in axis\"",
     "output_type": "error",
     "traceback": [
      "\u001b[1;31m---------------------------------------------------------------------------\u001b[0m",
      "\u001b[1;31mKeyError\u001b[0m                                  Traceback (most recent call last)",
      "\u001b[1;32mC:\\Users\\SOUMYA~1\\AppData\\Local\\Temp/ipykernel_5044/3878608126.py\u001b[0m in \u001b[0;36m<module>\u001b[1;34m\u001b[0m\n\u001b[1;32m----> 1\u001b[1;33m \u001b[0mdf_test\u001b[0m\u001b[1;33m.\u001b[0m\u001b[0mdrop\u001b[0m\u001b[1;33m(\u001b[0m\u001b[1;33m[\u001b[0m\u001b[1;34m'id'\u001b[0m\u001b[1;33m]\u001b[0m\u001b[1;33m,\u001b[0m \u001b[0maxis\u001b[0m\u001b[1;33m=\u001b[0m\u001b[1;36m1\u001b[0m\u001b[1;33m,\u001b[0m \u001b[0minplace\u001b[0m\u001b[1;33m=\u001b[0m\u001b[1;32mTrue\u001b[0m\u001b[1;33m)\u001b[0m\u001b[1;33m\u001b[0m\u001b[1;33m\u001b[0m\u001b[0m\n\u001b[0m",
      "\u001b[1;32m~\\Anaconda3\\lib\\site-packages\\pandas\\util\\_decorators.py\u001b[0m in \u001b[0;36mwrapper\u001b[1;34m(*args, **kwargs)\u001b[0m\n\u001b[0;32m    309\u001b[0m                     \u001b[0mstacklevel\u001b[0m\u001b[1;33m=\u001b[0m\u001b[0mstacklevel\u001b[0m\u001b[1;33m,\u001b[0m\u001b[1;33m\u001b[0m\u001b[1;33m\u001b[0m\u001b[0m\n\u001b[0;32m    310\u001b[0m                 )\n\u001b[1;32m--> 311\u001b[1;33m             \u001b[1;32mreturn\u001b[0m \u001b[0mfunc\u001b[0m\u001b[1;33m(\u001b[0m\u001b[1;33m*\u001b[0m\u001b[0margs\u001b[0m\u001b[1;33m,\u001b[0m \u001b[1;33m**\u001b[0m\u001b[0mkwargs\u001b[0m\u001b[1;33m)\u001b[0m\u001b[1;33m\u001b[0m\u001b[1;33m\u001b[0m\u001b[0m\n\u001b[0m\u001b[0;32m    312\u001b[0m \u001b[1;33m\u001b[0m\u001b[0m\n\u001b[0;32m    313\u001b[0m         \u001b[1;32mreturn\u001b[0m \u001b[0mwrapper\u001b[0m\u001b[1;33m\u001b[0m\u001b[1;33m\u001b[0m\u001b[0m\n",
      "\u001b[1;32m~\\Anaconda3\\lib\\site-packages\\pandas\\core\\frame.py\u001b[0m in \u001b[0;36mdrop\u001b[1;34m(self, labels, axis, index, columns, level, inplace, errors)\u001b[0m\n\u001b[0;32m   4899\u001b[0m                 \u001b[0mweight\u001b[0m  \u001b[1;36m1.0\u001b[0m     \u001b[1;36m0.8\u001b[0m\u001b[1;33m\u001b[0m\u001b[1;33m\u001b[0m\u001b[0m\n\u001b[0;32m   4900\u001b[0m         \"\"\"\n\u001b[1;32m-> 4901\u001b[1;33m         return super().drop(\n\u001b[0m\u001b[0;32m   4902\u001b[0m             \u001b[0mlabels\u001b[0m\u001b[1;33m=\u001b[0m\u001b[0mlabels\u001b[0m\u001b[1;33m,\u001b[0m\u001b[1;33m\u001b[0m\u001b[1;33m\u001b[0m\u001b[0m\n\u001b[0;32m   4903\u001b[0m             \u001b[0maxis\u001b[0m\u001b[1;33m=\u001b[0m\u001b[0maxis\u001b[0m\u001b[1;33m,\u001b[0m\u001b[1;33m\u001b[0m\u001b[1;33m\u001b[0m\u001b[0m\n",
      "\u001b[1;32m~\\Anaconda3\\lib\\site-packages\\pandas\\core\\generic.py\u001b[0m in \u001b[0;36mdrop\u001b[1;34m(self, labels, axis, index, columns, level, inplace, errors)\u001b[0m\n\u001b[0;32m   4148\u001b[0m         \u001b[1;32mfor\u001b[0m \u001b[0maxis\u001b[0m\u001b[1;33m,\u001b[0m \u001b[0mlabels\u001b[0m \u001b[1;32min\u001b[0m \u001b[0maxes\u001b[0m\u001b[1;33m.\u001b[0m\u001b[0mitems\u001b[0m\u001b[1;33m(\u001b[0m\u001b[1;33m)\u001b[0m\u001b[1;33m:\u001b[0m\u001b[1;33m\u001b[0m\u001b[1;33m\u001b[0m\u001b[0m\n\u001b[0;32m   4149\u001b[0m             \u001b[1;32mif\u001b[0m \u001b[0mlabels\u001b[0m \u001b[1;32mis\u001b[0m \u001b[1;32mnot\u001b[0m \u001b[1;32mNone\u001b[0m\u001b[1;33m:\u001b[0m\u001b[1;33m\u001b[0m\u001b[1;33m\u001b[0m\u001b[0m\n\u001b[1;32m-> 4150\u001b[1;33m                 \u001b[0mobj\u001b[0m \u001b[1;33m=\u001b[0m \u001b[0mobj\u001b[0m\u001b[1;33m.\u001b[0m\u001b[0m_drop_axis\u001b[0m\u001b[1;33m(\u001b[0m\u001b[0mlabels\u001b[0m\u001b[1;33m,\u001b[0m \u001b[0maxis\u001b[0m\u001b[1;33m,\u001b[0m \u001b[0mlevel\u001b[0m\u001b[1;33m=\u001b[0m\u001b[0mlevel\u001b[0m\u001b[1;33m,\u001b[0m \u001b[0merrors\u001b[0m\u001b[1;33m=\u001b[0m\u001b[0merrors\u001b[0m\u001b[1;33m)\u001b[0m\u001b[1;33m\u001b[0m\u001b[1;33m\u001b[0m\u001b[0m\n\u001b[0m\u001b[0;32m   4151\u001b[0m \u001b[1;33m\u001b[0m\u001b[0m\n\u001b[0;32m   4152\u001b[0m         \u001b[1;32mif\u001b[0m \u001b[0minplace\u001b[0m\u001b[1;33m:\u001b[0m\u001b[1;33m\u001b[0m\u001b[1;33m\u001b[0m\u001b[0m\n",
      "\u001b[1;32m~\\Anaconda3\\lib\\site-packages\\pandas\\core\\generic.py\u001b[0m in \u001b[0;36m_drop_axis\u001b[1;34m(self, labels, axis, level, errors)\u001b[0m\n\u001b[0;32m   4183\u001b[0m                 \u001b[0mnew_axis\u001b[0m \u001b[1;33m=\u001b[0m \u001b[0maxis\u001b[0m\u001b[1;33m.\u001b[0m\u001b[0mdrop\u001b[0m\u001b[1;33m(\u001b[0m\u001b[0mlabels\u001b[0m\u001b[1;33m,\u001b[0m \u001b[0mlevel\u001b[0m\u001b[1;33m=\u001b[0m\u001b[0mlevel\u001b[0m\u001b[1;33m,\u001b[0m \u001b[0merrors\u001b[0m\u001b[1;33m=\u001b[0m\u001b[0merrors\u001b[0m\u001b[1;33m)\u001b[0m\u001b[1;33m\u001b[0m\u001b[1;33m\u001b[0m\u001b[0m\n\u001b[0;32m   4184\u001b[0m             \u001b[1;32melse\u001b[0m\u001b[1;33m:\u001b[0m\u001b[1;33m\u001b[0m\u001b[1;33m\u001b[0m\u001b[0m\n\u001b[1;32m-> 4185\u001b[1;33m                 \u001b[0mnew_axis\u001b[0m \u001b[1;33m=\u001b[0m \u001b[0maxis\u001b[0m\u001b[1;33m.\u001b[0m\u001b[0mdrop\u001b[0m\u001b[1;33m(\u001b[0m\u001b[0mlabels\u001b[0m\u001b[1;33m,\u001b[0m \u001b[0merrors\u001b[0m\u001b[1;33m=\u001b[0m\u001b[0merrors\u001b[0m\u001b[1;33m)\u001b[0m\u001b[1;33m\u001b[0m\u001b[1;33m\u001b[0m\u001b[0m\n\u001b[0m\u001b[0;32m   4186\u001b[0m             \u001b[0mresult\u001b[0m \u001b[1;33m=\u001b[0m \u001b[0mself\u001b[0m\u001b[1;33m.\u001b[0m\u001b[0mreindex\u001b[0m\u001b[1;33m(\u001b[0m\u001b[1;33m**\u001b[0m\u001b[1;33m{\u001b[0m\u001b[0maxis_name\u001b[0m\u001b[1;33m:\u001b[0m \u001b[0mnew_axis\u001b[0m\u001b[1;33m}\u001b[0m\u001b[1;33m)\u001b[0m\u001b[1;33m\u001b[0m\u001b[1;33m\u001b[0m\u001b[0m\n\u001b[0;32m   4187\u001b[0m \u001b[1;33m\u001b[0m\u001b[0m\n",
      "\u001b[1;32m~\\Anaconda3\\lib\\site-packages\\pandas\\core\\indexes\\base.py\u001b[0m in \u001b[0;36mdrop\u001b[1;34m(self, labels, errors)\u001b[0m\n\u001b[0;32m   6016\u001b[0m         \u001b[1;32mif\u001b[0m \u001b[0mmask\u001b[0m\u001b[1;33m.\u001b[0m\u001b[0many\u001b[0m\u001b[1;33m(\u001b[0m\u001b[1;33m)\u001b[0m\u001b[1;33m:\u001b[0m\u001b[1;33m\u001b[0m\u001b[1;33m\u001b[0m\u001b[0m\n\u001b[0;32m   6017\u001b[0m             \u001b[1;32mif\u001b[0m \u001b[0merrors\u001b[0m \u001b[1;33m!=\u001b[0m \u001b[1;34m\"ignore\"\u001b[0m\u001b[1;33m:\u001b[0m\u001b[1;33m\u001b[0m\u001b[1;33m\u001b[0m\u001b[0m\n\u001b[1;32m-> 6018\u001b[1;33m                 \u001b[1;32mraise\u001b[0m \u001b[0mKeyError\u001b[0m\u001b[1;33m(\u001b[0m\u001b[1;34mf\"{labels[mask]} not found in axis\"\u001b[0m\u001b[1;33m)\u001b[0m\u001b[1;33m\u001b[0m\u001b[1;33m\u001b[0m\u001b[0m\n\u001b[0m\u001b[0;32m   6019\u001b[0m             \u001b[0mindexer\u001b[0m \u001b[1;33m=\u001b[0m \u001b[0mindexer\u001b[0m\u001b[1;33m[\u001b[0m\u001b[1;33m~\u001b[0m\u001b[0mmask\u001b[0m\u001b[1;33m]\u001b[0m\u001b[1;33m\u001b[0m\u001b[1;33m\u001b[0m\u001b[0m\n\u001b[0;32m   6020\u001b[0m         \u001b[1;32mreturn\u001b[0m \u001b[0mself\u001b[0m\u001b[1;33m.\u001b[0m\u001b[0mdelete\u001b[0m\u001b[1;33m(\u001b[0m\u001b[0mindexer\u001b[0m\u001b[1;33m)\u001b[0m\u001b[1;33m\u001b[0m\u001b[1;33m\u001b[0m\u001b[0m\n",
      "\u001b[1;31mKeyError\u001b[0m: \"['id'] not found in axis\""
     ]
    }
   ],
   "source": [
    "df_test.drop(['id'], axis=1, inplace=True)"
   ]
  },
  {
   "cell_type": "code",
   "execution_count": 137,
   "id": "b33721b4",
   "metadata": {},
   "outputs": [
    {
     "data": {
      "text/plain": [
       "Index(['vendor_id', 'passenger_count', 'pickup_longitude', 'pickup_latitude',\n",
       "       'dropoff_longitude', 'dropoff_latitude', 'store_and_fwd_flag', 'year',\n",
       "       'month', 'week', 'day_of_week', 'minute_oftheday', 'us_holiday',\n",
       "       'distance'],\n",
       "      dtype='object')"
      ]
     },
     "execution_count": 137,
     "metadata": {},
     "output_type": "execute_result"
    }
   ],
   "source": [
    "df_test.columns"
   ]
  },
  {
   "cell_type": "code",
   "execution_count": null,
   "id": "b3fa874f",
   "metadata": {},
   "outputs": [],
   "source": []
  },
  {
   "cell_type": "code",
   "execution_count": 138,
   "id": "fff5464c",
   "metadata": {},
   "outputs": [
    {
     "data": {
      "text/plain": [
       "array([6.59647372, 6.36196395, 5.92420857, ..., 7.18635487, 7.41249892,\n",
       "       7.02898349])"
      ]
     },
     "execution_count": 138,
     "metadata": {},
     "output_type": "execute_result"
    }
   ],
   "source": [
    "df_submit_preds = grid_search.predict(df_test)\n",
    "# df_submit_preds = goods_pipe.predict(df_submit)\n",
    "df_submit_preds"
   ]
  },
  {
   "cell_type": "code",
   "execution_count": 74,
   "id": "69df02fe",
   "metadata": {},
   "outputs": [
    {
     "data": {
      "text/plain": [
       "Index(['vendor_id', 'passenger_count', 'pickup_longitude', 'pickup_latitude',\n",
       "       'dropoff_longitude', 'dropoff_latitude', 'store_and_fwd_flag', 'year',\n",
       "       'month', 'week', 'day_of_week', 'minute_oftheday', 'us_holiday',\n",
       "       'distance'],\n",
       "      dtype='object')"
      ]
     },
     "execution_count": 74,
     "metadata": {},
     "output_type": "execute_result"
    }
   ],
   "source": [
    "df_submission.columns"
   ]
  },
  {
   "cell_type": "code",
   "execution_count": 144,
   "id": "44025453",
   "metadata": {},
   "outputs": [
    {
     "data": {
      "text/plain": [
       "1351079    5.811141\n",
       "1202709    5.996452\n",
       "1218765    5.389072\n",
       "453675     6.883463\n",
       "992254     7.595387\n",
       "Name: trip_duration, dtype: float64"
      ]
     },
     "execution_count": 144,
     "metadata": {},
     "output_type": "execute_result"
    }
   ],
   "source": [
    "y_train.head(5)"
   ]
  },
  {
   "cell_type": "code",
   "execution_count": 154,
   "id": "8a52a274",
   "metadata": {},
   "outputs": [
    {
     "data": {
      "text/html": [
       "<div>\n",
       "<style scoped>\n",
       "    .dataframe tbody tr th:only-of-type {\n",
       "        vertical-align: middle;\n",
       "    }\n",
       "\n",
       "    .dataframe tbody tr th {\n",
       "        vertical-align: top;\n",
       "    }\n",
       "\n",
       "    .dataframe thead th {\n",
       "        text-align: right;\n",
       "    }\n",
       "</style>\n",
       "<table border=\"1\" class=\"dataframe\">\n",
       "  <thead>\n",
       "    <tr style=\"text-align: right;\">\n",
       "      <th></th>\n",
       "      <th>id</th>\n",
       "      <th>trip_duration</th>\n",
       "    </tr>\n",
       "  </thead>\n",
       "  <tbody>\n",
       "    <tr>\n",
       "      <th>0</th>\n",
       "      <td>id3004672</td>\n",
       "      <td>733</td>\n",
       "    </tr>\n",
       "    <tr>\n",
       "      <th>1</th>\n",
       "      <td>id3505355</td>\n",
       "      <td>579</td>\n",
       "    </tr>\n",
       "    <tr>\n",
       "      <th>2</th>\n",
       "      <td>id1217141</td>\n",
       "      <td>374</td>\n",
       "    </tr>\n",
       "    <tr>\n",
       "      <th>3</th>\n",
       "      <td>id2150126</td>\n",
       "      <td>1091</td>\n",
       "    </tr>\n",
       "    <tr>\n",
       "      <th>4</th>\n",
       "      <td>id1598245</td>\n",
       "      <td>380</td>\n",
       "    </tr>\n",
       "    <tr>\n",
       "      <th>...</th>\n",
       "      <td>...</td>\n",
       "      <td>...</td>\n",
       "    </tr>\n",
       "    <tr>\n",
       "      <th>625129</th>\n",
       "      <td>id3008929</td>\n",
       "      <td>275</td>\n",
       "    </tr>\n",
       "    <tr>\n",
       "      <th>625130</th>\n",
       "      <td>id3700764</td>\n",
       "      <td>1183</td>\n",
       "    </tr>\n",
       "    <tr>\n",
       "      <th>625131</th>\n",
       "      <td>id2568735</td>\n",
       "      <td>1321</td>\n",
       "    </tr>\n",
       "    <tr>\n",
       "      <th>625132</th>\n",
       "      <td>id1384355</td>\n",
       "      <td>1657</td>\n",
       "    </tr>\n",
       "    <tr>\n",
       "      <th>625133</th>\n",
       "      <td>id0621643</td>\n",
       "      <td>1129</td>\n",
       "    </tr>\n",
       "  </tbody>\n",
       "</table>\n",
       "<p>625134 rows × 2 columns</p>\n",
       "</div>"
      ],
      "text/plain": [
       "               id  trip_duration\n",
       "0       id3004672            733\n",
       "1       id3505355            579\n",
       "2       id1217141            374\n",
       "3       id2150126           1091\n",
       "4       id1598245            380\n",
       "...           ...            ...\n",
       "625129  id3008929            275\n",
       "625130  id3700764           1183\n",
       "625131  id2568735           1321\n",
       "625132  id1384355           1657\n",
       "625133  id0621643           1129\n",
       "\n",
       "[625134 rows x 2 columns]"
      ]
     },
     "execution_count": 154,
     "metadata": {},
     "output_type": "execute_result"
    }
   ],
   "source": [
    "# df_submit_preds_final = pd. DataFrame (df_submit_preds)\n",
    "df_submit_preds_final = pd.DataFrame(np.exp(df_submit_preds))\n",
    "df_submit_preds_final = df_submit_preds_final.round(0).astype(int)\n",
    "# df_submit_preds_1['row_id'] = df_submission['row_id']\n",
    "df_submit_preds_final.insert(0,'id',df_submission['id'])\n",
    "df_submit_preds_final.columns = ['id','trip_duration']\n",
    "df_submit_preds_final"
   ]
  },
  {
   "cell_type": "code",
   "execution_count": 155,
   "id": "41827f3b",
   "metadata": {},
   "outputs": [],
   "source": [
    "df_submit_preds_final.to_csv(r'data/final_submission.csv',index = False)"
   ]
  }
 ],
 "metadata": {
  "kernelspec": {
   "display_name": "Python 3 (ipykernel)",
   "language": "python",
   "name": "python3"
  },
  "language_info": {
   "codemirror_mode": {
    "name": "ipython",
    "version": 3
   },
   "file_extension": ".py",
   "mimetype": "text/x-python",
   "name": "python",
   "nbconvert_exporter": "python",
   "pygments_lexer": "ipython3",
   "version": "3.8.8"
  }
 },
 "nbformat": 4,
 "nbformat_minor": 5
}
